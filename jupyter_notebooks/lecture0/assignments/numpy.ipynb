{
 "cells": [
  {
   "cell_type": "markdown",
   "metadata": {},
   "source": [
    "# Numpy\n",
    "- based on https://github.com/mephistopheies/mlworkshop39_042017/blob/master/0_python_intro/%D0%A3%D0%BF%D1%80%D0%B0%D0%B6%D0%BD%D0%B5%D0%BD%D0%B8%D1%8F.ipynb\n",
    "\n",
    "<img src=\"trainings1.jpg\" />"
   ]
  },
  {
   "cell_type": "markdown",
   "metadata": {},
   "source": [
    "## Task 0\n",
    "- import numpy"
   ]
  },
  {
   "cell_type": "code",
   "execution_count": 2,
   "metadata": {},
   "outputs": [],
   "source": [
    "import numpy as np\n",
    "from scipy import stats"
   ]
  },
  {
   "cell_type": "code",
   "execution_count": null,
   "metadata": {},
   "outputs": [],
   "source": [
    "## Task 1\n",
    "- print version of numpy"
   ]
  },
  {
   "cell_type": "code",
   "execution_count": null,
   "metadata": {},
   "outputs": [],
   "source": []
  },
  {
   "cell_type": "markdown",
   "metadata": {},
   "source": [
    "## Task 2\n",
    "- create 1d vector of zeros of size 10"
   ]
  },
  {
   "cell_type": "code",
   "execution_count": 5,
   "metadata": {},
   "outputs": [
    {
     "name": "stdout",
     "output_type": "stream",
     "text": [
      "[0. 0. 0. 0. 0. 0. 0. 0. 0. 0.]\n"
     ]
    }
   ],
   "source": [
    "x= np.zeros((10))"
   ]
  },
  {
   "cell_type": "markdown",
   "metadata": {},
   "source": [
    "## Task 3\n",
    "- create 1d vector filled with ones of size 10"
   ]
  },
  {
   "cell_type": "code",
   "execution_count": 6,
   "metadata": {},
   "outputs": [],
   "source": [
    "x= np.ones((10))"
   ]
  },
  {
   "cell_type": "markdown",
   "metadata": {},
   "source": [
    "## Task 4\n",
    "- create 1d vector filled with ones of size 10,"
   ]
  },
  {
   "cell_type": "code",
   "execution_count": null,
   "metadata": {},
   "outputs": [],
   "source": [
    "x= np.ones((10))"
   ]
  },
  {
   "cell_type": "markdown",
   "metadata": {},
   "source": [
    "## Task 5\n",
    "- crete 1d vector filled with numbers from 10 to 49"
   ]
  },
  {
   "cell_type": "code",
   "execution_count": 10,
   "metadata": {},
   "outputs": [
    {
     "name": "stdout",
     "output_type": "stream",
     "text": [
      "[10 11 12 13 14 15 16 17 18 19 20 21 22 23 24 25 26 27 28 29 30 31 32 33\n",
      " 34 35 36 37 38 39 40 41 42 43 44 45 46 47 48 49]\n"
     ]
    }
   ],
   "source": [
    "x= np.arange(10, 50)\n",
    "print(x)"
   ]
  },
  {
   "cell_type": "markdown",
   "metadata": {},
   "source": [
    "## Task 6\n",
    "- create any 1d vector, then reverce it, such that last element will be on the first position"
   ]
  },
  {
   "cell_type": "code",
   "execution_count": 12,
   "metadata": {},
   "outputs": [
    {
     "data": {
      "text/plain": [
       "array([10,  9,  8,  7,  6,  5,  4,  3,  2,  1])"
      ]
     },
     "execution_count": 12,
     "metadata": {},
     "output_type": "execute_result"
    }
   ],
   "source": [
    "x= np.arange(1,11)\n",
    "np.flip(x)"
   ]
  },
  {
   "cell_type": "markdown",
   "metadata": {},
   "source": [
    "## Task 7\n",
    "- create 2d 3x3 array / matrix, filled with numbers from 0 to 8"
   ]
  },
  {
   "cell_type": "code",
   "execution_count": 14,
   "metadata": {},
   "outputs": [
    {
     "name": "stdout",
     "output_type": "stream",
     "text": [
      "[[0 1 2]\n",
      " [3 4 5]\n",
      " [6 7 8]]\n"
     ]
    }
   ],
   "source": [
    "x = np.arange(9).reshape(3,3)\n",
    "print(x)"
   ]
  },
  {
   "cell_type": "markdown",
   "metadata": {},
   "source": [
    "## Task 8\n",
    "- create 3x3 matrix filled with ones"
   ]
  },
  {
   "cell_type": "code",
   "execution_count": 50,
   "metadata": {},
   "outputs": [
    {
     "name": "stdout",
     "output_type": "stream",
     "text": [
      "[[1. 1. 1.]\n",
      " [1. 1. 1.]\n",
      " [1. 1. 1.]]\n"
     ]
    }
   ],
   "source": [
    "x= np.ones((3,3))\n",
    "print(x)"
   ]
  },
  {
   "cell_type": "markdown",
   "metadata": {},
   "source": [
    "## Task 9\n",
    "- create 3x3 matrix filled with random numbers"
   ]
  },
  {
   "cell_type": "code",
   "execution_count": 20,
   "metadata": {},
   "outputs": [
    {
     "name": "stdout",
     "output_type": "stream",
     "text": [
      "[[0.46087257 0.434775   0.42981568]\n",
      " [0.60836212 0.46228634 0.74020983]\n",
      " [0.50399761 0.05190704 0.49878231]]\n"
     ]
    }
   ],
   "source": [
    "x= np.random.rand(3,3)\n",
    "print(x)"
   ]
  },
  {
   "cell_type": "markdown",
   "metadata": {},
   "source": [
    "## Task 10\n",
    "- create 3x3x3 array filled with random numbers"
   ]
  },
  {
   "cell_type": "code",
   "execution_count": 21,
   "metadata": {},
   "outputs": [
    {
     "name": "stdout",
     "output_type": "stream",
     "text": [
      "[[[0.35684785 0.49159015 0.61914887]\n",
      "  [0.25482427 0.32803351 0.17869947]\n",
      "  [0.78378724 0.95139503 0.97666875]]\n",
      "\n",
      " [[0.86681226 0.86692161 0.40801596]\n",
      "  [0.95756438 0.91842747 0.85823179]\n",
      "  [0.00998259 0.08839642 0.16210958]]\n",
      "\n",
      " [[0.05741495 0.34835396 0.41051068]\n",
      "  [0.3988042  0.74727698 0.66062201]\n",
      "  [0.87820329 0.79462573 0.22605739]]]\n"
     ]
    }
   ],
   "source": [
    "x= np.random.rand(3,3,3)\n",
    "print(x)"
   ]
  },
  {
   "cell_type": "markdown",
   "metadata": {},
   "source": [
    "## Task 11\n",
    "- create 10x10 matrix filled with random numbers and find minimal and maximal elements"
   ]
  },
  {
   "cell_type": "code",
   "execution_count": 68,
   "metadata": {},
   "outputs": [
    {
     "data": {
      "text/plain": [
       "(0.9945417417294653, 0.0020265670205795727)"
      ]
     },
     "execution_count": 68,
     "metadata": {},
     "output_type": "execute_result"
    }
   ],
   "source": [
    "x= np.random.rand(10,10)\n",
    "np.amax(x), np.amin(x)"
   ]
  },
  {
   "cell_type": "markdown",
   "metadata": {},
   "source": [
    "## Task 12\n",
    "- create a random 1d vector of size 30 and find average of them"
   ]
  },
  {
   "cell_type": "code",
   "execution_count": 45,
   "metadata": {},
   "outputs": [
    {
     "data": {
      "text/plain": [
       "0.5181175366071895"
      ]
     },
     "execution_count": 45,
     "metadata": {},
     "output_type": "execute_result"
    }
   ],
   "source": [
    "x=np.random.rand(30)\n",
    "np.mean(x)"
   ]
  },
  {
   "cell_type": "markdown",
   "metadata": {},
   "source": [
    "## Task 13\n",
    "- create 5x5 matrix, which has ones on a \"frame\" and zeros inside"
   ]
  },
  {
   "cell_type": "code",
   "execution_count": 51,
   "metadata": {},
   "outputs": [
    {
     "name": "stdout",
     "output_type": "stream",
     "text": [
      "[[1. 1. 1. 1. 1.]\n",
      " [1. 0. 0. 0. 1.]\n",
      " [1. 0. 0. 0. 1.]\n",
      " [1. 0. 0. 0. 1.]\n",
      " [1. 1. 1. 1. 1.]]\n"
     ]
    }
   ],
   "source": [
    "x= np.ones((5,5))\n",
    "x[1:-1,1:-1] = 0\n",
    "print(x)"
   ]
  },
  {
   "cell_type": "markdown",
   "metadata": {},
   "source": [
    "## Task 14\n",
    "- create 8x8 matrix\n",
    "- fill it with ones and zeros in a \"chess\" order\n",
    "- **don't use** `tile` funtion"
   ]
  },
  {
   "cell_type": "code",
   "execution_count": null,
   "metadata": {},
   "outputs": [],
   "source": []
  },
  {
   "cell_type": "markdown",
   "metadata": {},
   "source": [
    "## Task 15\n",
    "- create 8x8 matrix\n",
    "- fill it with ones and zeros in a \"chess\" order\n",
    "- **use** `tile` funtion"
   ]
  },
  {
   "cell_type": "code",
   "execution_count": 11,
   "metadata": {},
   "outputs": [
    {
     "data": {
      "text/plain": [
       "array([[0, 1, 0, 1, 0, 1, 0, 1, 0, 1, 0, 1, 0, 1, 0, 1],\n",
       "       [0, 1, 0, 1, 0, 1, 0, 1, 0, 1, 0, 1, 0, 1, 0, 1],\n",
       "       [0, 1, 0, 1, 0, 1, 0, 1, 0, 1, 0, 1, 0, 1, 0, 1],\n",
       "       [0, 1, 0, 1, 0, 1, 0, 1, 0, 1, 0, 1, 0, 1, 0, 1],\n",
       "       [0, 1, 0, 1, 0, 1, 0, 1, 0, 1, 0, 1, 0, 1, 0, 1],\n",
       "       [0, 1, 0, 1, 0, 1, 0, 1, 0, 1, 0, 1, 0, 1, 0, 1],\n",
       "       [0, 1, 0, 1, 0, 1, 0, 1, 0, 1, 0, 1, 0, 1, 0, 1],\n",
       "       [0, 1, 0, 1, 0, 1, 0, 1, 0, 1, 0, 1, 0, 1, 0, 1]])"
      ]
     },
     "execution_count": 11,
     "metadata": {},
     "output_type": "execute_result"
    }
   ],
   "source": [
    "a = np.array([0, 1])\n",
    "np.tile(a, (8,8))"
   ]
  },
  {
   "cell_type": "markdown",
   "metadata": {},
   "source": [
    "## Task 16\n",
    "- create two random matrices 5x3 and 3x2\n",
    "- multiply them"
   ]
  },
  {
   "cell_type": "code",
   "execution_count": 84,
   "metadata": {},
   "outputs": [
    {
     "name": "stdout",
     "output_type": "stream",
     "text": [
      "[[0.26548285 0.45353443]\n",
      " [0.49564991 0.94175858]\n",
      " [0.25504463 0.42525288]\n",
      " [0.33114599 0.58738976]\n",
      " [0.66926588 1.19721609]]\n"
     ]
    }
   ],
   "source": [
    "x= np.random.rand(5,3)\n",
    "y= np.random.rand(3,2)\n",
    "z= np.matmul(x,y)\n",
    "print(z)"
   ]
  },
  {
   "cell_type": "markdown",
   "metadata": {},
   "source": [
    "## Task 17\n",
    "- create array of size 100 filled with random numbers from 0 to 10\n",
    "- chenge sign of all numbers which are in a range between 3 and 8"
   ]
  },
  {
   "cell_type": "code",
   "execution_count": 50,
   "metadata": {},
   "outputs": [
    {
     "name": "stdout",
     "output_type": "stream",
     "text": [
      "[-5  2 -4  9 -7 -7  0 -8 -3 -4 -7 -4  1  9 -7 -8 -4 -8  1 -8  0  2 -5 -7\n",
      "  1  1  9 -4 -4 -5 -8  2  2 -3 -4  2  1 -5 -3 -5  9 -6 -6 -3 -3 -4  1  0\n",
      "  9  1 -5 -5 -3 -8 -4 -5 -8  1 -7  1  0 -4 -7 -7 -6  9  2 -7  0 -5 -6  1\n",
      " -7 -4 -8 -4 -7 -6 -6 -4  2 -3  1 -4  0 -7 -5 -7  0 -8  2 -6  0  0 -6 -4\n",
      " -5 -7  1 -5]\n"
     ]
    }
   ],
   "source": [
    "x= np.random.randint(10, size=100)\n",
    "m= (x>2)*(x<9)\n",
    "x[m]*=-1\n",
    "print(x)"
   ]
  },
  {
   "cell_type": "markdown",
   "metadata": {},
   "source": [
    "## Task 18\n",
    "- create a matrix 5x5 such that each row would be a 1d array filled with numbers from 0 to 4"
   ]
  },
  {
   "cell_type": "code",
   "execution_count": 52,
   "metadata": {},
   "outputs": [
    {
     "name": "stdout",
     "output_type": "stream",
     "text": [
      "[[0. 1. 2. 3. 4.]\n",
      " [0. 1. 2. 3. 4.]\n",
      " [0. 1. 2. 3. 4.]\n",
      " [0. 1. 2. 3. 4.]\n",
      " [0. 1. 2. 3. 4.]]\n"
     ]
    }
   ],
   "source": [
    "x = np.zeros((5,5)) + np.arange(5)\n",
    "print(x)"
   ]
  },
  {
   "cell_type": "markdown",
   "metadata": {},
   "source": [
    "## Task 19\n",
    "- create 1d vector of size 100 filled with random values from range 0-1, excluding boundary values (no exact 0/1)"
   ]
  },
  {
   "cell_type": "code",
   "execution_count": 68,
   "metadata": {},
   "outputs": [
    {
     "name": "stdout",
     "output_type": "stream",
     "text": [
      "[0.20738232 0.71714279 0.79901651 0.61630266 0.72276098 0.29329719\n",
      " 0.88543301 0.26928256 0.12624636 0.46123938 0.69274989 0.24531198\n",
      " 0.53396516 0.58593321 0.15882454 0.58232898 0.65195198 0.83469111\n",
      " 0.79861625 0.17358819 0.5084962  0.49742638 0.49837736 0.64585535\n",
      " 0.60877503 0.38646785 0.71502605 0.39787882 0.70000748 0.69623086\n",
      " 0.75848306 0.18573316 0.87726152 0.40643054 0.35775943 0.18509037\n",
      " 0.83440933 0.17601638 0.75889477 0.47979402 0.59026024 0.62226515\n",
      " 0.26247158 0.60095193 0.87158595 0.39083803 0.27800973 0.87851577\n",
      " 0.44126695 0.78046742 0.16594012 0.70030767 0.36711257 0.76663822\n",
      " 0.24179784 0.41107012 0.21670804 0.53683989 0.47679625 0.88156451\n",
      " 0.81563517 0.58884582 0.4836545  0.10213058 0.28959983 0.424178\n",
      " 0.61151772 0.22906675 0.76625306 0.64875713 0.37478357 0.15912053\n",
      " 0.38385475 0.44595583 0.77452887 0.37487744 0.28467345 0.61940453\n",
      " 0.31115973 0.74974981 0.50409552 0.39921607 0.65716601 0.72117727\n",
      " 0.23174359 0.28058946 0.11304381 0.37557161 0.18044599 0.59272588\n",
      " 0.32498242 0.15830898 0.83416947 0.31726983 0.40554994 0.25936058\n",
      " 0.44166944 0.44168851 0.23058234 0.89234453]\n"
     ]
    }
   ],
   "source": [
    "x= np.random.uniform(low=0.1, high=0.9, size=100)\n",
    "print(x)"
   ]
  },
  {
   "cell_type": "markdown",
   "metadata": {},
   "source": [
    "## Task 20\n",
    "- create a 10x2 random matrix filled with number from range 0-100\n",
    "- consider it as points in Cartesian plain\n",
    "- convert to polar system of coordinates"
   ]
  },
  {
   "cell_type": "code",
   "execution_count": 19,
   "metadata": {},
   "outputs": [
    {
     "name": "stdout",
     "output_type": "stream",
     "text": [
      "[[ 7 73]\n",
      " [99 56]\n",
      " [ 5  6]\n",
      " [84 73]\n",
      " [68 15]\n",
      " [10 27]\n",
      " [21 95]\n",
      " [95  5]\n",
      " [40 33]\n",
      " [ 6 30]]\n",
      "[ 73.33484847 113.7409337    7.81024968 111.28791489  69.63476143\n",
      "  28.7923601   97.29337079  95.13148795  51.85556865  30.59411708]\n",
      "[1.47519821 0.51478409 0.87605805 0.71544878 0.21711131 1.21609067\n",
      " 1.35324221 0.05258306 0.68980004 1.37340077]\n"
     ]
    }
   ],
   "source": [
    "m= np.zeros((10,2))\n",
    "m= np.random.randint(101, size=(10,2))\n",
    "print(m)\n",
    "\n",
    "x,y= m[:,0], m[:,1]\n",
    "r= np.sqrt(x**2+y**2)\n",
    "t= np.arctan2(y,x)\n",
    "print(r)\n",
    "print(t)"
   ]
  },
  {
   "cell_type": "markdown",
   "metadata": {},
   "source": [
    "## Task 21\n",
    "- create random 13x13 matrix, replace maximal element to zero"
   ]
  },
  {
   "cell_type": "code",
   "execution_count": 29,
   "metadata": {},
   "outputs": [
    {
     "name": "stdout",
     "output_type": "stream",
     "text": [
      "[[2 0 1 3 0 0 0 1 0 1 0 3 0]\n",
      " [0 3 2 1 0 0 0 0 2 0 0 3 0]\n",
      " [1 2 0 1 2 0 0 1 1 0 1 2 2]\n",
      " [0 2 3 0 0 1 1 1 0 0 3 0 2]\n",
      " [0 1 0 1 3 1 1 2 2 0 0 2 3]\n",
      " [1 0 2 1 2 0 0 1 0 2 0 0 1]\n",
      " [2 1 3 3 0 0 0 1 2 1 2 0 2]\n",
      " [3 1 1 0 0 2 0 2 3 3 1 2 1]\n",
      " [0 0 1 0 0 0 2 1 0 1 2 0 0]\n",
      " [0 0 3 1 3 0 1 2 0 0 0 1 0]\n",
      " [3 1 1 1 0 1 0 2 0 0 0 0 3]\n",
      " [1 0 1 2 0 2 0 3 0 0 1 0 2]\n",
      " [1 0 2 0 2 0 0 3 3 3 1 3 0]]\n"
     ]
    }
   ],
   "source": [
    "x= np.random.randint(5,size=(13,13))\n",
    "x[np.where(x==np.max(x))] = 0\n",
    "print(x)"
   ]
  },
  {
   "cell_type": "markdown",
   "metadata": {},
   "source": [
    "## Task 22\n",
    "- create two 1d arrays with random values\n",
    "- make a Cauchy matrix from them $C (C_{ij} = \\frac{1}{x_i - y_j})$"
   ]
  },
  {
   "cell_type": "code",
   "execution_count": 71,
   "metadata": {},
   "outputs": [
    {
     "name": "stdout",
     "output_type": "stream",
     "text": [
      "[  0.3569221    1.07994101   0.12661266   1.06582828 -26.21989978\n",
      "  -0.58829702   1.03283462   0.76168557  -1.97541068   1.16318025]\n"
     ]
    }
   ],
   "source": [
    "x= np.random.standard_cauchy(size=10)\n",
    "print(x)"
   ]
  },
  {
   "cell_type": "markdown",
   "metadata": {},
   "source": [
    "## Task 23\n",
    "- create an array of random `float` numbers and convert it to `int`"
   ]
  },
  {
   "cell_type": "code",
   "execution_count": 72,
   "metadata": {},
   "outputs": [
    {
     "data": {
      "text/plain": [
       "array([2, 3, 4, 5, 6, 7, 8, 9])"
      ]
     },
     "execution_count": 72,
     "metadata": {},
     "output_type": "execute_result"
    }
   ],
   "source": [
    "np.arange(2, 10, dtype=np.float).astype(int)"
   ]
  },
  {
   "cell_type": "markdown",
   "metadata": {},
   "source": [
    "## Task 24\n",
    "- create 1d array of numbers from 0 to 15\n",
    "- put each of them in random positions inside 4x4 matrix"
   ]
  },
  {
   "cell_type": "code",
   "execution_count": 74,
   "metadata": {},
   "outputs": [
    {
     "data": {
      "text/plain": [
       "array([[ 5, 15, 12,  8],\n",
       "       [13, 12,  1,  7],\n",
       "       [15,  3,  4, 10],\n",
       "       [12, 12, 10, 15]])"
      ]
     },
     "execution_count": 74,
     "metadata": {},
     "output_type": "execute_result"
    }
   ],
   "source": [
    "np.random.randint(16, size=(4,4))\n"
   ]
  },
  {
   "cell_type": "markdown",
   "metadata": {},
   "source": [
    "## Task 25\n",
    "- create random 100x50 matrix\n",
    "- deduct avarage of each row from correspondatn rows"
   ]
  },
  {
   "cell_type": "code",
   "execution_count": 76,
   "metadata": {},
   "outputs": [
    {
     "data": {
      "text/plain": [
       "array([1.94, 1.68, 2.08, 2.22, 2.2 , 2.12, 2.02, 2.12, 1.94, 1.9 , 2.04,\n",
       "       2.04, 2.  , 1.84, 2.  , 2.3 , 1.84, 2.2 , 2.06, 1.92, 1.7 , 1.6 ,\n",
       "       1.74, 1.9 , 1.96, 2.26, 2.26, 2.26, 1.54, 1.98, 1.98, 2.  , 2.04,\n",
       "       1.96, 1.84, 2.1 , 1.88, 2.24, 1.92, 2.08, 2.16, 1.82, 2.  , 1.72,\n",
       "       1.98, 1.9 , 1.94, 1.9 , 2.1 , 1.9 , 1.98, 1.92, 2.2 , 2.36, 1.84,\n",
       "       1.86, 1.86, 2.04, 2.26, 2.3 , 2.24, 2.06, 1.92, 2.16, 2.04, 2.08,\n",
       "       1.98, 2.2 , 2.24, 1.52, 1.68, 1.94, 2.14, 1.92, 2.04, 2.24, 2.08,\n",
       "       1.84, 1.9 , 1.92, 2.12, 1.96, 1.74, 2.2 , 2.14, 2.18, 1.94, 1.96,\n",
       "       2.46, 2.28, 1.96, 1.94, 1.68, 2.12, 1.94, 2.4 , 2.02, 2.68, 1.92,\n",
       "       1.92])"
      ]
     },
     "execution_count": 76,
     "metadata": {},
     "output_type": "execute_result"
    }
   ],
   "source": [
    "x= np.random.randint(5, size=(100,50))\n",
    "\n",
    "\n",
    "mean= np.mean(x, axis=1)\n",
    "\n",
    "\n",
    "mean.shape\n",
    "\n",
    "loop= mean.copy()\n",
    "for i in range(x.shape[0]):\n",
    "    loop[i] = loop[i] - mean[i]\n",
    "\n",
    "loop.mean(axis=1)\n",
    "\n",
    "\n",
    "\n",
    "np.mean(np.random.randint(5, size=(100,50)), axis=1)"
   ]
  },
  {
   "cell_type": "markdown",
   "metadata": {},
   "source": [
    "## Task 26 \n",
    "- create random 10x10 matrix\n",
    "- extract diagonal elements and put them into 1d array"
   ]
  },
  {
   "cell_type": "code",
   "execution_count": 57,
   "metadata": {},
   "outputs": [
    {
     "name": "stdout",
     "output_type": "stream",
     "text": [
      "[[1 1 0 4 3 3 1 3 1 2]\n",
      " [2 3 1 3 2 1 3 0 2 4]\n",
      " [3 1 1 2 1 4 3 3 0 1]\n",
      " [0 4 0 2 3 1 3 2 2 1]\n",
      " [4 1 4 1 0 0 0 3 2 3]\n",
      " [1 2 0 0 4 3 0 4 0 0]\n",
      " [0 0 3 0 0 4 2 3 3 3]\n",
      " [2 0 0 1 4 2 3 2 4 1]\n",
      " [1 0 2 0 1 1 4 2 0 3]\n",
      " [0 4 2 3 1 0 2 3 0 0]]\n"
     ]
    }
   ],
   "source": [
    "x= np.random.randint(5, size=(10,10))\n",
    "print(x)"
   ]
  },
  {
   "cell_type": "markdown",
   "metadata": {},
   "source": [
    "## Task 27\n",
    "- given a vector `[1, 2, 3, 4, 5]`\n",
    "- build a new vertor with three zeros between each element"
   ]
  },
  {
   "cell_type": "code",
   "execution_count": null,
   "metadata": {},
   "outputs": [],
   "source": []
  }
 ],
 "metadata": {
  "kernelspec": {
   "display_name": "Python 3",
   "language": "python",
   "name": "python3"
  },
  "language_info": {
   "codemirror_mode": {
    "name": "ipython",
    "version": 3
   },
   "file_extension": ".py",
   "mimetype": "text/x-python",
   "name": "python",
   "nbconvert_exporter": "python",
   "pygments_lexer": "ipython3",
   "version": "3.7.3"
  }
 },
 "nbformat": 4,
 "nbformat_minor": 2
}
