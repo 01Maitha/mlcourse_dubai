{
 "cells": [
  {
   "cell_type": "markdown",
   "metadata": {
    "toc": true
   },
   "source": [
    "<h1>Table of Contents<span class=\"tocSkip\"></span></h1>\n",
    "<div class=\"toc\"><ul class=\"toc-item\"><li><span><a href=\"#Assignment-#9-.\" data-toc-modified-id=\"Assignment-#9-.-1\">Assignment #9 .</a></span><ul class=\"toc-item\"><li><span><a href=\"#Time-series-analysis\" data-toc-modified-id=\"Time-series-analysis-1.1\">Time series analysis</a></span></li><li><span><a href=\"#Data-preparation\" data-toc-modified-id=\"Data-preparation-1.2\">Data preparation</a></span></li><li><span><a href=\"#Predicting-with-FB-Prophet\" data-toc-modified-id=\"Predicting-with-FB-Prophet-1.3\">Predicting with FB Prophet</a></span><ul class=\"toc-item\"><li><span><a href=\"#Question-1:-What-is-the-prediction-for-1st-of-January-17-00:00:00?\" data-toc-modified-id=\"Question-1:-What-is-the-prediction-for-1st-of-January-17-00:00:00?-1.3.1\"><font color=\"red\">Question 1:</font> What is the prediction for 1st of January 17 00:00:00?</a></span></li><li><span><a href=\"#Question-2:-What-is-MAPE-equal-to?\" data-toc-modified-id=\"Question-2:-What-is-MAPE-equal-to?-1.3.2\"><font color=\"red\">Question 2:</font> What is MAPE equal to?</a></span></li><li><span><a href=\"#Question-3:-What-is-MAE-equal-to?\" data-toc-modified-id=\"Question-3:-What-is-MAE-equal-to?-1.3.3\"><font color=\"red\">Question 3:</font> What is MAE equal to?</a></span></li></ul></li><li><span><a href=\"#Predicting-with-ARIMA\" data-toc-modified-id=\"Predicting-with-ARIMA-1.4\">Predicting with ARIMA</a></span><ul class=\"toc-item\"><li><span><a href=\"#Question-4:-What's-the-stationarity?\" data-toc-modified-id=\"Question-4:-What's-the-stationarity?-1.4.1\"><font color=\"red\">Question 4:</font> What's the stationarity?</a></span></li><li><span><a href=\"#Question-5:-Best-hyperparameters-before-Box-Cox-transformation?\" data-toc-modified-id=\"Question-5:-Best-hyperparameters-before-Box-Cox-transformation?-1.4.2\"><font color=\"red\">Question 5:</font> Best hyperparameters before Box-Cox transformation?</a></span></li><li><span><a href=\"#Question-6:-Best-hyperparameters-after-Box-Cox-transformation?\" data-toc-modified-id=\"Question-6:-Best-hyperparameters-after-Box-Cox-transformation?-1.4.3\"><font color=\"red\">Question 6:</font> Best hyperparameters after Box-Cox transformation?</a></span></li><li><span><a href=\"#Question-7:-Draw-final-prediction-and-historical-data\" data-toc-modified-id=\"Question-7:-Draw-final-prediction-and-historical-data-1.4.4\"><font color=\"red\">Question 7:</font> Draw final prediction and historical data</a></span></li></ul></li></ul></li></ul></div>"
   ]
  },
  {
   "cell_type": "markdown",
   "metadata": {
    "_uuid": "7c14fc1945b6b6e15462e0d7c2195e7af8995e16"
   },
   "source": [
    "<center>\n",
    "<img src=\"https://habrastorage.org/files/fd4/502/43d/fd450243dd604b81b9713213a247aa20.jpg\">\n",
    "## [mlcourse.ai](https://mlcourse.ai) – Open Machine Learning Course \n",
    "<center>Author: [Mariya Mansurova](https://www.linkedin.com/in/mariya-mansurova-04070982/), analyst & developer in Yandex.Metrics team. <br>Translated by [Ivan Zakharov](https://www.linkedin.com/in/ivan-zakharov/), ML enthusiast.\n",
    "<br>All content is distributed under the [Creative Commons CC BY-NC-SA 4.0](https://creativecommons.org/licenses/by-nc-sa/4.0/) license."
   ]
  },
  {
   "cell_type": "markdown",
   "metadata": {
    "_uuid": "97ba88c4bdf3f7ac67f232db126e1614f8908c28"
   },
   "source": [
    "# Assignment #9 . \n",
    "## Time series analysis\n",
    "\n",
    "<font color='red'>Fill cells marked with \"Your code here\" and write answer below question after text \"Type your answer here:\"\n",
    "    </font>    "
   ]
  },
  {
   "cell_type": "code",
   "execution_count": null,
   "metadata": {},
   "outputs": [],
   "source": [
    "pip install fbprophet -U"
   ]
  },
  {
   "cell_type": "code",
   "execution_count": null,
   "metadata": {},
   "outputs": [],
   "source": [
    "pip install tqdm"
   ]
  },
  {
   "cell_type": "code",
   "execution_count": null,
   "metadata": {
    "ExecuteTime": {
     "end_time": "2020-05-21T19:01:09.362121Z",
     "start_time": "2020-05-21T19:01:08.165634Z"
    },
    "_uuid": "89d5e3b4d455d4d97dd033cb80cc974213921b96"
   },
   "outputs": [],
   "source": [
    "### import os\n",
    "import warnings\n",
    "warnings.filterwarnings('ignore')\n",
    "import numpy as np\n",
    "import pandas as pd\n",
    "import tqdm\n",
    "from tqdm import tqdm\n",
    "\n",
    "\n",
    "from plotly.offline import download_plotlyjs, init_notebook_mode, plot, iplot\n",
    "from plotly import graph_objs as go\n",
    "import requests\n",
    "\n",
    "from plotly import __version__\n",
    "print(__version__) # need 1.9.0 or greater\n",
    "init_notebook_mode(connected = True)\n",
    "\n",
    "\n",
    "def plotly_df(df, title = ''):\n",
    "    data = []\n",
    "    \n",
    "    for column in df.columns:\n",
    "        trace = go.Scatter(\n",
    "            x = df.index,\n",
    "            y = df[column],\n",
    "            mode = 'lines',\n",
    "            name = column\n",
    "        )\n",
    "        data.append(trace)\n",
    "    \n",
    "    layout = dict(title = title)\n",
    "    fig = dict(data = data, layout = layout)\n",
    "    iplot(fig, show_link=False)"
   ]
  },
  {
   "cell_type": "markdown",
   "metadata": {
    "_uuid": "eb356578940e57d82e18606af25a73ace6b716a2",
    "collapsed": true
   },
   "source": [
    "## Data preparation"
   ]
  },
  {
   "cell_type": "code",
   "execution_count": null,
   "metadata": {
    "ExecuteTime": {
     "end_time": "2020-05-21T19:01:09.751766Z",
     "start_time": "2020-05-21T19:01:09.731252Z"
    },
    "_uuid": "ae85ed4238f22ee11f433586199f726cf9467a8d"
   },
   "outputs": [],
   "source": [
    "df = pd.read_csv('hour_online.csv')\n",
    "df = df[df['Users'] != 0]\n",
    "df.head()"
   ]
  },
  {
   "cell_type": "code",
   "execution_count": null,
   "metadata": {
    "ExecuteTime": {
     "end_time": "2020-05-21T19:01:10.083703Z",
     "start_time": "2020-05-21T19:01:10.080154Z"
    },
    "_uuid": "fcefb6fd95ff45224bedf2c050fe8ff18fc892c5"
   },
   "outputs": [],
   "source": [
    "df.shape"
   ]
  },
  {
   "cell_type": "markdown",
   "metadata": {
    "_uuid": "73546f4a4833dd454515a64fcf8036fd37710209"
   },
   "source": [
    "## Predicting with FB Prophet\n",
    "We will train at first 5 months and predict the number of trips for June."
   ]
  },
  {
   "cell_type": "code",
   "execution_count": null,
   "metadata": {
    "ExecuteTime": {
     "end_time": "2020-05-21T19:01:13.199771Z",
     "start_time": "2020-05-21T19:01:12.958088Z"
    },
    "_uuid": "8e2df31323e351ee2409c9ee6831dedca4eaae54"
   },
   "outputs": [],
   "source": [
    "df.Time = pd.to_datetime(df.Time)\n"
   ]
  },
  {
   "cell_type": "code",
   "execution_count": null,
   "metadata": {
    "ExecuteTime": {
     "end_time": "2020-05-21T19:01:14.620735Z",
     "start_time": "2020-05-21T19:01:13.622306Z"
    },
    "_uuid": "30b96a92eb630f79050f4a1bc6bfb7404e81ff70"
   },
   "outputs": [],
   "source": [
    "plotly_df(df.set_index('Time')[[\"Users\"]])"
   ]
  },
  {
   "cell_type": "code",
   "execution_count": null,
   "metadata": {
    "ExecuteTime": {
     "end_time": "2020-05-21T19:01:16.696066Z",
     "start_time": "2020-05-21T19:01:15.857225Z"
    },
    "_uuid": "604c3b0009f3c74ff2ddfc47f44fc73daebcc2c4"
   },
   "outputs": [],
   "source": [
    "from fbprophet import Prophet"
   ]
  },
  {
   "cell_type": "code",
   "execution_count": null,
   "metadata": {
    "ExecuteTime": {
     "end_time": "2020-05-21T19:01:18.915363Z",
     "start_time": "2020-05-21T19:01:18.904058Z"
    },
    "_uuid": "dfe8ab69d2cf2a80465542addc9c1cb33377cd60"
   },
   "outputs": [],
   "source": [
    "predictions = 30\n",
    "\n",
    "df.columns = ['ds', 'y']\n",
    "df.tail()"
   ]
  },
  {
   "cell_type": "code",
   "execution_count": null,
   "metadata": {
    "ExecuteTime": {
     "end_time": "2020-05-21T19:19:03.390952Z",
     "start_time": "2020-05-21T19:19:03.387147Z"
    },
    "_uuid": "9b9207a6192409bde1579aee968fd35c770a6ab7"
   },
   "outputs": [],
   "source": [
    "train_df = df[:-predictions].copy()"
   ]
  },
  {
   "cell_type": "code",
   "execution_count": null,
   "metadata": {
    "ExecuteTime": {
     "end_time": "2020-05-21T18:00:41.304240Z",
     "start_time": "2020-05-21T18:00:37.315648Z"
    },
    "_uuid": "b87efa4b8de7253756dc3d7651ee0479ecb90e6d"
   },
   "outputs": [],
   "source": [
    "m = Prophet()\n",
    "m.fit(train_df);"
   ]
  },
  {
   "cell_type": "code",
   "execution_count": null,
   "metadata": {
    "ExecuteTime": {
     "end_time": "2020-05-21T18:00:41.315442Z",
     "start_time": "2020-05-21T18:00:41.306213Z"
    },
    "_uuid": "d87ebfae6e889033eaed513385d0de52474f4bd8"
   },
   "outputs": [],
   "source": [
    "future = m.make_future_dataframe(periods=predictions, freq = 'H')\n",
    "future.tail()"
   ]
  },
  {
   "cell_type": "code",
   "execution_count": null,
   "metadata": {
    "ExecuteTime": {
     "end_time": "2020-05-21T18:00:43.608995Z",
     "start_time": "2020-05-21T18:00:41.317440Z"
    },
    "_uuid": "89cb90f1f39922798db3b0b9be26d6fb32d53223"
   },
   "outputs": [],
   "source": [
    "forecast = m.predict(future)\n",
    "forecast.tail()"
   ]
  },
  {
   "cell_type": "code",
   "execution_count": null,
   "metadata": {},
   "outputs": [],
   "source": [
    "m.plot(forecast);"
   ]
  },
  {
   "cell_type": "markdown",
   "metadata": {
    "_uuid": "6249be012ed20f23a3221ab1c6d449aa800bc52c"
   },
   "source": [
    "### <font color='red'>Question 1:</font> What is the prediction for 1st of January 17 00:00:00?\n",
    "\n",
    "What is the prediction of the number of views of the wiki page on 1st of January 17? Round to the nearest integer.\n",
    "\n",
    "- **yhat = 39050.6 views estimated** \n"
   ]
  },
  {
   "cell_type": "code",
   "execution_count": null,
   "metadata": {
    "ExecuteTime": {
     "end_time": "2020-05-21T18:46:22.697212Z",
     "start_time": "2020-05-21T18:46:22.690445Z"
    }
   },
   "outputs": [],
   "source": [
    "forecast.loc[forecast['ds'] == '2017-01-01 00:00:00']"
   ]
  },
  {
   "cell_type": "markdown",
   "metadata": {
    "_uuid": "0a9e4cde4574d19baa302ef272210c304797a884"
   },
   "source": [
    "Estimate the quality of the prediction with the last 30 points.\n",
    "\n",
    "### <font color='red'>Question 2:</font> What is MAPE equal to?\n",
    "\n",
    "- 12.69\n",
    "\n",
    "### <font color='red'>Question 3:</font> What is MAE equal to?\n",
    "\n",
    "- 4349.67 \n"
   ]
  },
  {
   "cell_type": "code",
   "execution_count": null,
   "metadata": {},
   "outputs": [],
   "source": [
    "print(', '.join(forecast.columns))"
   ]
  },
  {
   "cell_type": "code",
   "execution_count": null,
   "metadata": {},
   "outputs": [],
   "source": [
    "def make_comparison_dataframe(historical, forecast):\n",
    "    return forecast.set_index('ds')[['yhat', 'yhat_lower', 'yhat_upper']].join(historical.set_index('ds'))"
   ]
  },
  {
   "cell_type": "code",
   "execution_count": null,
   "metadata": {
    "ExecuteTime": {
     "end_time": "2020-05-21T18:46:22.697212Z",
     "start_time": "2020-05-21T18:46:22.690445Z"
    }
   },
   "outputs": [],
   "source": [
    "cmp_df['e'] = cmp_df['y'] - cmp_df['yhat']\n",
    "cmp_df['p'] = 100 * cmp_df['e'] / cmp_df['y']"
   ]
  },
  {
   "cell_type": "code",
   "execution_count": null,
   "metadata": {},
   "outputs": [],
   "source": [
    "print('MAPE is ', round(np.mean(abs(cmp_df [-predictions:]['p'])), 2))\n",
    "print('MAE is ',  round(np.mean(abs(cmp_df [-predictions:]['e'])), 2))"
   ]
  },
  {
   "cell_type": "markdown",
   "metadata": {
    "_uuid": "bf197e6c4a93a2432e67f6646a8751ae8302277c"
   },
   "source": [
    "## Predicting with ARIMA"
   ]
  },
  {
   "cell_type": "code",
   "execution_count": null,
   "metadata": {
    "ExecuteTime": {
     "end_time": "2020-05-21T19:01:49.283946Z",
     "start_time": "2020-05-21T19:01:48.340615Z"
    },
    "_uuid": "372fab9cffe87a216d5933e9c78c8ec600948068"
   },
   "outputs": [],
   "source": [
    "%matplotlib inline\n",
    "import matplotlib.pyplot as plt\n",
    "from scipy import stats\n",
    "import statsmodels.api as sm\n",
    "plt.rcParams['figure.figsize'] = (15, 10)"
   ]
  },
  {
   "cell_type": "markdown",
   "metadata": {
    "_uuid": "7dba52d96a81c1a25a80af831a7a94beb21f0079"
   },
   "source": [
    "### <font color='red'>Question 4:</font> What's the stationarity?\n",
    "\n",
    "Let's verify the stationarity of the series using the Dickey-Fuller test. Is the series stationary? What is the p-value?\n",
    "\n",
    "- Is the series stationary (yes/no)? Answer: No, we cannot reject the null hypothesis since p-value is larger than 0.05\n",
    "- What is p_value? Answer: p = 0.240004"
   ]
  },
  {
   "cell_type": "code",
   "execution_count": null,
   "metadata": {
    "ExecuteTime": {
     "end_time": "2020-05-21T18:46:22.697212Z",
     "start_time": "2020-05-21T18:46:22.690445Z"
    }
   },
   "outputs": [],
   "source": [
    "sm.tsa.seasonal_decompose(train_df['y'].values, freq=7).plot();\n",
    "\n",
    "print(sm.tsa.stattools.adfuller(train_df['y'])[1])"
   ]
  },
  {
   "cell_type": "markdown",
   "metadata": {
    "_uuid": "e85cbe4ad4a4ea9c886808028f25239ce7f303a8"
   },
   "source": [
    "**Next, we turn to the construction of the SARIMAX model (`sm.tsa.statespace.SARIMAX`).<br> \n",
    "### <font color='red'>Question 5:</font> Best hyperparameters before Box-Cox transformation?\n",
    "\n",
    "Try 1st and 2nd diff.\n",
    "\n",
    "What parameters are the best for the model according to the `AIC` criterion?\n",
    "\n",
    "Choose one option:\n",
    "\n",
    "- p = 3, d = 0, q = 2, P = 2, D = 1, Q = 1\n",
    "- p = 3, d = 1, q = 6, P = 2, D = 1, Q = 1\n",
    "- **p = 5, d = 1, q = 6, P = 1, D = 0, Q = 1**\n",
    "- p = 7, d = 0, q = 7, P = 2, D = 2, Q = 2\n",
    "\n",
    "\n"
   ]
  },
  {
   "cell_type": "code",
   "execution_count": null,
   "metadata": {},
   "outputs": [],
   "source": [
    "import itertools\n",
    "from itertools import product\n",
    "p = [3, 5, 7]\n",
    "d = [0, 1]\n",
    "q = [2, 6, 7]\n",
    "P = Q = [2, 1]\n",
    "D = [1, 0, 2]\n",
    "parameters = list(product(p, d, q, P, D, Q))\n",
    "print(\"all possible combination of the selected parameters are: \",\n",
    "      len(parameters))"
   ]
  },
  {
   "cell_type": "code",
   "execution_count": null,
   "metadata": {},
   "outputs": [],
   "source": [
    "from tqdm import tqdm\n",
    "warnings.filterwarnings('ignore')\n",
    "models = []\n",
    "best_aic = float(\"inf\")\n",
    "for x in tqdm(list(parameters)):\n",
    "        try:\n",
    "            model=sm.tsa.statespace.SARIMAX(train_df['y'], order=(x[0], x[1], x[2]), \n",
    "                                        seasonal_order=(x[3], x[4], x[5], 8)).fit(disp=-1)\n",
    "        except (ValueError, np.linalg.LinAlgError):\n",
    "            continue\n",
    "        aic = model.aic\n",
    "        if aic < best_aic:\n",
    "            best_model = model\n",
    "            best_aic = aic\n",
    "            best_param = x\n",
    "        models.append([x, model.aic])\n",
    "        without_boxcox = pd.DataFrame(models,\n",
    "                                      columns=['parameters', 'aic']).sort_values(by='aic',\n",
    "                                                     ascending=True).reset_index(drop=True)\n",
    "        return without_boxcox"
   ]
  },
  {
   "cell_type": "code",
   "execution_count": null,
   "metadata": {},
   "outputs": [],
   "source": [
    "without_boxcox[without_boxcox['parameters'].isin([(3, 0, 2, 2, 1, 1),\n",
    "                                                  (3, 1, 6, 2, 1, 1),\n",
    "                                                  (5, 1, 6, 1, 0, 1),\n",
    "                                                  (7, 0, 7, 2, 2, 2)])]"
   ]
  },
  {
   "cell_type": "markdown",
   "metadata": {
    "_uuid": "e85cbe4ad4a4ea9c886808028f25239ce7f303a8"
   },
   "source": [
    "**Next, we turn to the construction of the SARIMAX model (`sm.tsa.statespace.SARIMAX`).<br> \n",
    "### <font color='red'>Question 6:</font> Best hyperparameters after Box-Cox transformation?\n",
    "\n",
    "No do the same as in Question 5, but with Box-Cox transformation.\n",
    "\n",
    "What is the optimal Box-Cox transformation parameter?\n",
    "\n",
    "- Type answer here:\n",
    "\n",
    "What parameters are the best for the model according to the `AIC` criterion?\n",
    "\n",
    "Choose on option:\n",
    "\n",
    "- p = 3, d = 0, q = 2, P = 2, D = 1, Q = 1\n",
    "- p = 3, d = 1, q = 6, P = 2, D = 1, Q = 1\n",
    "- p = 5, d = 1, q = 6, P = 1, D = 0, Q = 1\n",
    "- **p = 7, d = 0, q = 7, P = 2, D = 2, Q = 2**\n"
   ]
  },
  {
   "cell_type": "markdown",
   "metadata": {
    "_uuid": "0ed6d6acaab21c4be371134863c4a0800e4403ff"
   },
   "source": [
    "Now do the same, but for the series with Box-Cox transformation."
   ]
  },
  {
   "cell_type": "code",
   "execution_count": null,
   "metadata": {
    "ExecuteTime": {
     "end_time": "2020-05-21T20:31:45.996940Z",
     "start_time": "2020-05-21T20:31:45.988080Z"
    },
    "_uuid": "203cc8df79e7c165a62bc87d70a2e1f3357493c6"
   },
   "outputs": [],
   "source": [
    "import scipy.stats\n",
    "train_df['y_box'], lmbda = scipy.stats.boxcox(train_df['y']) \n",
    "print(\"The optimal Box-Cox transformation parameter: %f\" % lmbda)"
   ]
  },
  {
   "cell_type": "code",
   "execution_count": null,
   "metadata": {
    "ExecuteTime": {
     "end_time": "2020-05-21T18:46:22.697212Z",
     "start_time": "2020-05-21T18:46:22.690445Z"
    }
   },
   "outputs": [],
   "source": [
    "models_box = []\n",
    "best_aic = float(\"inf\")\n",
    "for x in tqdm(list(parameters)):\n",
    "        try:\n",
    "            model=sm.tsa.statespace.SARIMAX(train_df['y_box'], order=(x[0], x[1], x[2]), \n",
    "                                        seasonal_order=(x[3], x[4], x[5], 8)).fit(disp=-1)\n",
    "        except (ValueError, np.linalg.LinAlgError):\n",
    "            continue\n",
    "        aic = model.aic\n",
    "        if aic < best_aic:\n",
    "            best_model = model\n",
    "            best_aic = aic\n",
    "            best_param = x\n",
    "        models.append([x, model.aic])\n",
    "        using_boxcox = pd.DataFrame(models,\n",
    "                                      columns=['parameters', 'aic']).sort_values(by='aic',\n",
    "                                                     ascending=True).reset_index(drop=True)\n",
    "        return using_boxcox"
   ]
  },
  {
   "cell_type": "code",
   "execution_count": null,
   "metadata": {},
   "outputs": [],
   "source": [
    "using_boxcox"
   ]
  },
  {
   "cell_type": "markdown",
   "metadata": {
    "_uuid": "e85cbe4ad4a4ea9c886808028f25239ce7f303a8"
   },
   "source": [
    " \n",
    "### <font color='red'>Question 7:</font> Draw final prediction and historical data\n",
    "\n",
    "Don't forget to invere Box-Cox..."
   ]
  },
  {
   "cell_type": "code",
   "execution_count": null,
   "metadata": {
    "ExecuteTime": {
     "end_time": "2020-05-21T18:46:22.697212Z",
     "start_time": "2020-05-21T18:46:22.690445Z"
    }
   },
   "outputs": [],
   "source": [
    "def inverse_boxcox(y, lambda_):\n",
    "    return np.exp(y) if lambda_ == 0 else np.exp(np.log(lambda_ * y + 1) / lambda_)"
   ]
  },
  {
   "cell_type": "code",
   "execution_count": null,
   "metadata": {},
   "outputs": [],
   "source": [
    "train_df['arima_model'] = inverse_boxcox(best_model.fittedvalues, lmbda)\n",
    "\n",
    "train_df.y.tail(200).plot()\n",
    "train_df.arima_model[13:].tail(200).plot(color='r')\n",
    "plt.title('Historical Vs. Prediction of Wiki Pages Views',fontsize=16);\n",
    "plt.xlabel('April')\n",
    "plt.ylabel('Wiki Views')\n",
    "plt.legend(loc=\"upper right\",labels=['Historical values','Predicted values'])\n",
    "plt.yscale('log')\n",
    "plt.grid(True,which='both')"
   ]
  },
  {
   "cell_type": "code",
   "execution_count": null,
   "metadata": {},
   "outputs": [],
   "source": []
  }
 ],
 "metadata": {
  "kernelspec": {
   "display_name": "Python 3",
   "language": "python",
   "name": "python3"
  },
  "language_info": {
   "codemirror_mode": {
    "name": "ipython",
    "version": 3
   },
   "file_extension": ".py",
   "mimetype": "text/x-python",
   "name": "python",
   "nbconvert_exporter": "python",
   "pygments_lexer": "ipython3",
   "version": "3.7.3"
  },
  "toc": {
   "base_numbering": 1,
   "nav_menu": {},
   "number_sections": false,
   "sideBar": true,
   "skip_h1_title": false,
   "title_cell": "Table of Contents",
   "title_sidebar": "Contents",
   "toc_cell": true,
   "toc_position": {
    "height": "calc(100% - 180px)",
    "left": "10px",
    "top": "150px",
    "width": "336px"
   },
   "toc_section_display": true,
   "toc_window_display": true
  },
  "varInspector": {
   "cols": {
    "lenName": 16,
    "lenType": 16,
    "lenVar": 40
   },
   "kernels_config": {
    "python": {
     "delete_cmd_postfix": "",
     "delete_cmd_prefix": "del ",
     "library": "var_list.py",
     "varRefreshCmd": "print(var_dic_list())"
    },
    "r": {
     "delete_cmd_postfix": ") ",
     "delete_cmd_prefix": "rm(",
     "library": "var_list.r",
     "varRefreshCmd": "cat(var_dic_list()) "
    }
   },
   "types_to_exclude": [
    "module",
    "function",
    "builtin_function_or_method",
    "instance",
    "_Feature"
   ],
   "window_display": false
  }
 },
 "nbformat": 4,
 "nbformat_minor": 1
}
