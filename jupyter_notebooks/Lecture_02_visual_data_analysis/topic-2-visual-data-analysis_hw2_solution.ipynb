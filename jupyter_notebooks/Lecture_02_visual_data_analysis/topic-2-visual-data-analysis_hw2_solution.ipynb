{
 "cells": [
  {
   "cell_type": "markdown",
   "metadata": {},
   "source": [
    "<center>\n",
    "<img src=\"https://habrastorage.org/webt/ia/m9/zk/iam9zkyzqebnf_okxipihkgjwnw.jpeg\">\n",
    "    \n",
    "## [mlcourse.ai](mlcourse.ai) – Open Machine Learning Course \n",
    "\n",
    "Author: [Yury Kashnitskiy](https://yorko.github.io). \n",
    "Translated and edited by [Maxim Keremet](https://www.linkedin.com/in/maximkeremet/), [Artem Trunov](https://www.linkedin.com/in/datamove/), and [Aditya Soni](https://www.linkedin.com/in/aditya-soni-0505a9124/). This material is subject to the terms and conditions of the [Creative Commons CC BY-NC-SA 4.0](https://creativecommons.org/licenses/by-nc-sa/4.0/) license. Free use is permitted for any non-commercial purpose."
   ]
  },
  {
   "cell_type": "markdown",
   "metadata": {},
   "source": [
    "# <center> Solution #2. <br> Visual data analysis in Python: EDA of US flights <br> (using Pandas, Matplotlib & Seaborn & Plotly)\n",
    "\n",
    "<img src='../../img/flight.png' width=50%>\n",
    "\n",
    "\n",
    "* **Your task** is to write code and perform computations in the cells below"
   ]
  },
  {
   "cell_type": "code",
   "execution_count": 1,
   "metadata": {
    "ExecuteTime": {
     "end_time": "2020-04-10T17:05:09.450534Z",
     "start_time": "2020-04-10T17:05:08.697337Z"
    }
   },
   "outputs": [],
   "source": [
    "import numpy as np\n",
    "import pandas as pd\n",
    "\n",
    "import seaborn as sns\n",
    "import matplotlib.pyplot as plt\n",
    "\n",
    "import plotly.graph_objs as go\n",
    "import plotly.express as px\n",
    "\n",
    "# enable static images of your plot embedded in the notebook\n",
    "%matplotlib inline \n",
    "\n",
    "sns.set() #apply the default default seaborn theme, scaling, and color palette\n",
    "\n",
    "# Graphics in retina format are more sharp and legible\n",
    "%config InlineBackend.figure_format = 'retina'"
   ]
  },
  {
   "cell_type": "markdown",
   "metadata": {},
   "source": [
    "* Download the data [archive](http://www.rdatasciencecases.org/Data/Airline/2008.csv.bz2) (Archived ~ 114 Mb, unzipped - ~ 690 Mb). No need to unzip - pandas can unbzip on the fly.\n",
    "* Place it in the \"../../data\" folder, or change the path below according to your location.\n",
    "* The dataset has information about carriers and flights between US airports during the year 2008. \n",
    "* Column description is available [here](http://www.transtats.bts.gov/Fields.asp?Table_ID=236). Visit this site to find ex. meaning of flight cancellation codes."
   ]
  },
  {
   "cell_type": "markdown",
   "metadata": {},
   "source": [
    "**Reading data into memory and creating a Pandas _DataFrame_ object**\n",
    "\n",
    "(This may take a while, be patient)\n",
    "\n",
    "We are not going to read in the whole dataset. In order to reduce memory footprint, we instead load only needed columns and cast them suitable data types."
   ]
  },
  {
   "cell_type": "code",
   "execution_count": 2,
   "metadata": {
    "ExecuteTime": {
     "end_time": "2020-04-10T17:05:09.455387Z",
     "start_time": "2020-04-10T17:05:09.451837Z"
    }
   },
   "outputs": [],
   "source": [
    "dtype = {'DayOfWeek': np.uint8, 'DayofMonth': np.uint8, 'Month': np.uint8 , 'Cancelled': np.uint8, \n",
    "         'Year': np.uint16, 'FlightNum': np.uint16 , 'Distance': np.uint16, \n",
    "         'UniqueCarrier': str, 'CancellationCode': str, 'Origin': str, 'Dest': str,\n",
    "         'ArrDelay': np.float16, 'DepDelay': np.float16, 'CarrierDelay': np.float16,\n",
    "         'WeatherDelay': np.float16, 'NASDelay': np.float16, 'SecurityDelay': np.float16,\n",
    "         'LateAircraftDelay': np.float16, 'DepTime': np.float16}"
   ]
  },
  {
   "cell_type": "code",
   "execution_count": null,
   "metadata": {
    "ExecuteTime": {
     "start_time": "2020-04-10T17:05:08.701Z"
    }
   },
   "outputs": [],
   "source": [
    "%%time\n",
    "# change the path if needed\n",
    "path = '../../data/2008.csv.bz2'\n",
    "flights_df = pd.read_csv(path, usecols=dtype.keys(), dtype=dtype)"
   ]
  },
  {
   "cell_type": "markdown",
   "metadata": {},
   "source": [
    "**Check the number of rows and columns and print column names.**"
   ]
  },
  {
   "cell_type": "code",
   "execution_count": null,
   "metadata": {
    "ExecuteTime": {
     "start_time": "2020-04-10T17:05:08.703Z"
    }
   },
   "outputs": [],
   "source": [
    "print(flights_df.shape)\n",
    "print(flights_df.columns)"
   ]
  },
  {
   "cell_type": "markdown",
   "metadata": {},
   "source": [
    "**Print first 5 rows of the dataset.**"
   ]
  },
  {
   "cell_type": "code",
   "execution_count": null,
   "metadata": {
    "ExecuteTime": {
     "start_time": "2020-04-10T17:05:08.710Z"
    }
   },
   "outputs": [],
   "source": [
    "flights_df.head()"
   ]
  },
  {
   "cell_type": "markdown",
   "metadata": {},
   "source": [
    "**Transpose the frame to see all features at once.**"
   ]
  },
  {
   "cell_type": "code",
   "execution_count": null,
   "metadata": {
    "ExecuteTime": {
     "start_time": "2020-04-10T17:05:08.716Z"
    }
   },
   "outputs": [],
   "source": [
    "flights_df.head().T"
   ]
  },
  {
   "cell_type": "markdown",
   "metadata": {},
   "source": [
    "**Examine data types of all features and total dataframe size in memory.**"
   ]
  },
  {
   "cell_type": "code",
   "execution_count": null,
   "metadata": {
    "ExecuteTime": {
     "start_time": "2020-04-10T17:05:08.721Z"
    }
   },
   "outputs": [],
   "source": [
    "flights_df.info()"
   ]
  },
  {
   "cell_type": "markdown",
   "metadata": {},
   "source": [
    "**Get basic statistics of each feature.**"
   ]
  },
  {
   "cell_type": "code",
   "execution_count": null,
   "metadata": {
    "ExecuteTime": {
     "start_time": "2020-04-10T17:05:08.726Z"
    }
   },
   "outputs": [],
   "source": [
    "flights_df.describe().T"
   ]
  },
  {
   "cell_type": "markdown",
   "metadata": {},
   "source": [
    "**Count unique Carriers and plot their relative share of flights:**"
   ]
  },
  {
   "cell_type": "code",
   "execution_count": null,
   "metadata": {
    "ExecuteTime": {
     "start_time": "2020-04-10T17:05:08.731Z"
    }
   },
   "outputs": [],
   "source": [
    "flights_df['UniqueCarrier'].nunique()"
   ]
  },
  {
   "cell_type": "code",
   "execution_count": null,
   "metadata": {
    "ExecuteTime": {
     "start_time": "2020-04-10T17:05:08.734Z"
    }
   },
   "outputs": [],
   "source": [
    "flights_df.groupby('UniqueCarrier').size().plot(kind='bar');"
   ]
  },
  {
   "cell_type": "markdown",
   "metadata": {},
   "source": [
    "**We can also _group by_ category/categories in order to calculate different aggregated statistics.**\n",
    "\n",
    "**For example, finding top-3 flight codes, that have the largest total distance travelled in year 2008.**"
   ]
  },
  {
   "cell_type": "code",
   "execution_count": null,
   "metadata": {
    "ExecuteTime": {
     "start_time": "2020-04-10T17:05:08.738Z"
    }
   },
   "outputs": [],
   "source": [
    "flights_df.groupby(['UniqueCarrier','FlightNum'])['Distance'].sum().sort_values(ascending=False).iloc[:3]"
   ]
  },
  {
   "cell_type": "markdown",
   "metadata": {},
   "source": [
    "**Another way:**"
   ]
  },
  {
   "cell_type": "code",
   "execution_count": null,
   "metadata": {
    "ExecuteTime": {
     "start_time": "2020-04-10T17:05:08.743Z"
    }
   },
   "outputs": [],
   "source": [
    "flights_df.groupby(['UniqueCarrier','FlightNum'])\\\n",
    "  .agg({'Distance': [np.mean, np.sum, 'count'],\n",
    "        'Cancelled': np.sum})\\\n",
    "  .sort_values(('Distance', 'sum'), ascending=False)\\\n",
    "  .iloc[0:3]"
   ]
  },
  {
   "cell_type": "markdown",
   "metadata": {},
   "source": [
    "**Number of flights by days of week and months:**"
   ]
  },
  {
   "cell_type": "code",
   "execution_count": null,
   "metadata": {
    "ExecuteTime": {
     "start_time": "2020-04-10T17:05:08.748Z"
    }
   },
   "outputs": [],
   "source": [
    "pd.crosstab(flights_df.Month, flights_df.DayOfWeek)"
   ]
  },
  {
   "cell_type": "markdown",
   "metadata": {},
   "source": [
    "**It can also be handy to color such tables in order to easily notice outliers:**"
   ]
  },
  {
   "cell_type": "code",
   "execution_count": null,
   "metadata": {
    "ExecuteTime": {
     "start_time": "2020-04-10T17:05:08.752Z"
    }
   },
   "outputs": [],
   "source": [
    "plt.imshow(pd.crosstab(flights_df.Month, flights_df.DayOfWeek),\n",
    "           cmap='seismic', interpolation='none');"
   ]
  },
  {
   "cell_type": "markdown",
   "metadata": {},
   "source": [
    "**Flight distance histogram:**"
   ]
  },
  {
   "cell_type": "code",
   "execution_count": null,
   "metadata": {
    "ExecuteTime": {
     "start_time": "2020-04-10T17:05:08.756Z"
    },
    "scrolled": true
   },
   "outputs": [],
   "source": [
    "flights_df.hist('Distance', bins=20);"
   ]
  },
  {
   "cell_type": "markdown",
   "metadata": {},
   "source": [
    "**Making a histogram of flight frequency by date.**"
   ]
  },
  {
   "cell_type": "code",
   "execution_count": null,
   "metadata": {
    "ExecuteTime": {
     "start_time": "2020-04-10T17:05:08.761Z"
    }
   },
   "outputs": [],
   "source": [
    "flights_df['Date'] = pd.to_datetime(flights_df.rename(columns={'DayofMonth': 'Day'})[['Year', 'Month', 'Day']])"
   ]
  },
  {
   "cell_type": "code",
   "execution_count": null,
   "metadata": {
    "ExecuteTime": {
     "start_time": "2020-04-10T17:05:08.764Z"
    }
   },
   "outputs": [],
   "source": [
    "num_flights_by_date = flights_df.groupby('Date').size()"
   ]
  },
  {
   "cell_type": "code",
   "execution_count": null,
   "metadata": {
    "ExecuteTime": {
     "start_time": "2020-04-10T17:05:08.768Z"
    },
    "scrolled": true
   },
   "outputs": [],
   "source": [
    "num_flights_by_date.plot();"
   ]
  },
  {
   "cell_type": "markdown",
   "metadata": {},
   "source": [
    "**Do you see a weekly pattern above? And below?**"
   ]
  },
  {
   "cell_type": "code",
   "execution_count": null,
   "metadata": {
    "ExecuteTime": {
     "start_time": "2020-04-10T17:05:08.772Z"
    }
   },
   "outputs": [],
   "source": [
    "num_flights_by_date.rolling(window=7).mean().plot();"
   ]
  },
  {
   "cell_type": "markdown",
   "metadata": {},
   "source": [
    "**We'll need a new column in our dataset - departure hour, let's create it.**\n",
    "\n",
    "As we see, `DepTime` is distributed from 1 to 2400 (it is given in the `hhmm` format, check the [column description](https://www.transtats.bts.gov/Fields.asp?Table_ID=236) again). We'll treat departure hour as `DepTime` // 100 (divide by 100 and apply the `floor` function). However, now we'll have both hour 0 and hour 24. Hour 24 sounds strange, we'll set it to be 0 instead (a typical imperfectness of real data, however, you can check that it affects only 521 rows, which is sort of not a big deal). So now values of a new column `DepHour` will be distributed from 0 to 23. There are some missing values, for now we won't fill in them, just ignore them. "
   ]
  },
  {
   "cell_type": "code",
   "execution_count": null,
   "metadata": {
    "ExecuteTime": {
     "start_time": "2020-04-10T17:05:08.776Z"
    }
   },
   "outputs": [],
   "source": [
    "flights_df['DepHour'] = flights_df['DepTime'] // 100\n",
    "flights_df['DepHour'].replace(to_replace=24, value=0, inplace=True)"
   ]
  },
  {
   "cell_type": "code",
   "execution_count": null,
   "metadata": {
    "ExecuteTime": {
     "start_time": "2020-04-10T17:05:08.787Z"
    }
   },
   "outputs": [],
   "source": [
    "flights_df['DepHour'].describe()"
   ]
  },
  {
   "cell_type": "markdown",
   "metadata": {},
   "source": [
    "**1. Find top-10 carriers in terms of the number of completed flights (_UniqueCarrier_ column)?**\n",
    "\n",
    "**Which of the listed below is _not_ in your top-10 list?**\n",
    "- DL\n",
    "- AA\n",
    "- OO\n",
    "- EV <span style=\"color:green\"> **[+]** </span>"
   ]
  },
  {
   "cell_type": "code",
   "execution_count": null,
   "metadata": {
    "ExecuteTime": {
     "start_time": "2020-04-10T17:05:08.792Z"
    }
   },
   "outputs": [],
   "source": [
    "# solution\n",
    "top10_airlines = flights_df.loc[flights_df['Cancelled'] == 0,\n",
    "                                'UniqueCarrier'].value_counts().head(10)\n",
    "top10_airlines"
   ]
  },
  {
   "cell_type": "markdown",
   "metadata": {},
   "source": [
    "**2. Plot distributions of flight cancellation reasons (_CancellationCode_).**\n",
    "\n",
    "**What is the most frequent reason for flight cancellation? (Use this [link](https://www.transtats.bts.gov/Fields.asp?Table_ID=236) to translate codes into reasons)**\n",
    "- carrier\n",
    "- weather conditions <span style=\"color:green\"> **[+]** </span>\n",
    "- National Air System\n",
    "- security reasons\n",
    "\n",
    "****\n",
    "*Reminder on Cancellatoin codes:*\n",
    "```\n",
    "A - Carrier \n",
    "B - Weather \n",
    "C - National Air System \n",
    "D - Security\n",
    "```\n",
    "****"
   ]
  },
  {
   "cell_type": "code",
   "execution_count": null,
   "metadata": {
    "ExecuteTime": {
     "start_time": "2020-04-10T17:05:08.796Z"
    }
   },
   "outputs": [],
   "source": [
    "# solution\n",
    "plt.figure(figsize=(10, 5))\n",
    "sns.countplot(flights_df['CancellationCode'].sort_values());"
   ]
  },
  {
   "cell_type": "code",
   "execution_count": null,
   "metadata": {
    "ExecuteTime": {
     "start_time": "2020-04-10T17:05:08.800Z"
    }
   },
   "outputs": [],
   "source": [
    "flights_df['CancellationCode'].mode()"
   ]
  },
  {
   "cell_type": "markdown",
   "metadata": {},
   "source": [
    "**3. Which route is the most frequent, in terms of the number of flights?**\n",
    "\n",
    "(Take a look at _'Origin'_ and _'Dest'_ features. Consider _A->B_ and _B->A_ directions as _different_ routes) \n",
    "\n",
    " - New-York – Washington\n",
    " - San-Francisco – Los-Angeles <span style=\"color:green\"> **[+]** </span>\n",
    " - San-Jose – Dallas\n",
    " - New-York – San-Francisco"
   ]
  },
  {
   "cell_type": "code",
   "execution_count": null,
   "metadata": {
    "ExecuteTime": {
     "start_time": "2020-04-10T17:05:08.804Z"
    }
   },
   "outputs": [],
   "source": [
    "# solution\n",
    "flights_df['Route'] = flights_df['Origin'] + '->' + flights_df['Dest']\n",
    "flights_df['Route'].value_counts().head()"
   ]
  },
  {
   "cell_type": "markdown",
   "metadata": {},
   "source": [
    "**4. Find top-5 delayed routes (count how many times they were delayed on departure). From all flights on these 5 routes, count all flights with weather conditions contributing to a delay.**\n",
    "\n",
    "**Hint:** consider only positive delays\n",
    "\n",
    "\n",
    "- 449 \n",
    "- 539 \n",
    "- 549 \n",
    "- 668 <span style=\"color:green\"> **[+]** </span>"
   ]
  },
  {
   "cell_type": "code",
   "execution_count": null,
   "metadata": {
    "ExecuteTime": {
     "start_time": "2020-04-10T17:05:08.808Z"
    }
   },
   "outputs": [],
   "source": [
    "# solution\n",
    "# find top5 routes with most delayed flights\n",
    "top5_delayed = flights_df[flights_df['DepDelay'] > 0].groupby('Route')\\\n",
    "    .size().sort_values(ascending=False).head(5)\n",
    "\n",
    "top5_delayed"
   ]
  },
  {
   "cell_type": "code",
   "execution_count": null,
   "metadata": {
    "ExecuteTime": {
     "start_time": "2020-04-10T17:05:08.810Z"
    }
   },
   "outputs": [],
   "source": [
    "# reduce to only flights from top5 delayed routes\n",
    "flights_top5_delays = flights_df[flights_df['Route'].isin(top5_delayed.index)]"
   ]
  },
  {
   "cell_type": "code",
   "execution_count": null,
   "metadata": {
    "ExecuteTime": {
     "start_time": "2020-04-10T17:05:08.811Z"
    }
   },
   "outputs": [],
   "source": [
    "# now the answer\n",
    "(flights_top5_delays['WeatherDelay'] > 0).sum()"
   ]
  },
  {
   "cell_type": "markdown",
   "metadata": {},
   "source": [
    "**5. Examine the hourly distribution of departure times. For that, create a new series from DepTime, removing missing values.**\n",
    "\n",
    "**Choose all correct statements:**\n",
    " - Flights are normally distributed within time interval [0-23] (Search for: Normal distribution, bell curve).\n",
    " - Flights are uniformly distributed within time interval [0-23].   \n",
    " - In the period from 0 am to 4 am there are considerably less flights than from 7 pm to 8 pm. <span style=\"color:green\"> **[+]** </span>"
   ]
  },
  {
   "cell_type": "code",
   "execution_count": null,
   "metadata": {
    "ExecuteTime": {
     "start_time": "2020-04-10T17:05:08.813Z"
    }
   },
   "outputs": [],
   "source": [
    "# solution\n",
    "hour_group = flights_df['DepHour'].value_counts(sort=False)\n",
    "\n",
    "plt.figure(figsize=(10, 5))\n",
    "sns.barplot(x=hour_group.index, y=hour_group)\n",
    "plt.xticks(rotation=90)\n",
    "plt.show()"
   ]
  },
  {
   "cell_type": "code",
   "execution_count": null,
   "metadata": {
    "ExecuteTime": {
     "start_time": "2020-04-10T17:05:08.815Z"
    }
   },
   "outputs": [],
   "source": [
    "# Checking the 3rd statements separately\n",
    "round((flights_df['DepHour'] == 19).sum() / (flights_df['DepHour'] < 5).sum())"
   ]
  },
  {
   "cell_type": "markdown",
   "metadata": {},
   "source": [
    "**6. Show how the number of flights changes through time (on the daily/weekly/monthly basis) and interpret the findings.**\n",
    "\n",
    "**Choose all correct statements:**\n",
    "- The number of flights during weekends is less than during weekdays (working days). <span style=\"color:green\"> **[+]** </span>\n",
    "- The lowest number of flights is on Sunday.\n",
    "- There are less flights during winter than during summer. <span style=\"color:green\"> **[+]** </span>"
   ]
  },
  {
   "cell_type": "code",
   "execution_count": null,
   "metadata": {
    "ExecuteTime": {
     "start_time": "2020-04-10T17:05:08.818Z"
    }
   },
   "outputs": [],
   "source": [
    "# solution\n",
    "num_flights_by_day_of_week = flights_df[flights_df['Cancelled'] == 0].groupby(\n",
    "    'DayOfWeek').size()\n",
    "\n",
    "\n",
    "plt.figure(figsize=(10, 5))\n",
    "sns.barplot(x=num_flights_by_day_of_week.index, y=num_flights_by_day_of_week)"
   ]
  },
  {
   "cell_type": "code",
   "execution_count": null,
   "metadata": {
    "ExecuteTime": {
     "start_time": "2020-04-10T17:05:08.819Z"
    }
   },
   "outputs": [],
   "source": [
    "num_flights_by_month = flights_df[flights_df['Cancelled'] == 0].groupby('Month').size()\n",
    "\n",
    "plt.figure(figsize=(10, 5))\n",
    "sns.barplot(x=num_flights_by_month.index, y=num_flights_by_month);"
   ]
  },
  {
   "cell_type": "markdown",
   "metadata": {},
   "source": [
    "**7. Examine the distribution of cancellation reasons with time. Make a bar plot of cancellation reasons aggregated by months.**\n",
    "\n",
    "**Choose all correct statements:**\n",
    "- December has the highest rate of cancellations due to weather. <span style=\"color:green\"> **[+]** </span>\n",
    "- The highest rate of cancellations in September is due to Security reasons.\n",
    "- April's top cancellation reason is carriers. <span style=\"color:green\"> **[+]** </span>\n",
    "- Flights cancellations due to National Air System are more frequent than those due to carriers.\n",
    "\n",
    "****\n",
    "*Reminder on Cancellatoin codes:*\n",
    "```\n",
    "A - Carrier \n",
    "B - Weather \n",
    "C - National Air System \n",
    "D - Security\n",
    "```\n",
    "****"
   ]
  },
  {
   "cell_type": "code",
   "execution_count": null,
   "metadata": {
    "ExecuteTime": {
     "start_time": "2020-04-10T17:05:08.821Z"
    }
   },
   "outputs": [],
   "source": [
    "# create a month name list\n",
    "import calendar\n",
    "\n",
    "month_names = []\n",
    "for month_idx in flights_df['Month'].unique():\n",
    "    month_names.append((calendar.month_name[month_idx]))\n",
    "\n",
    "cancel_df = (flights_df.groupby(['Month', 'CancellationCode'])\n",
    "             .size()\n",
    "             .reset_index()\n",
    "             .rename(columns={0: 'count'}))\n",
    "\n",
    "# create a barplot\n",
    "plt.figure(figsize=(15, 5))\n",
    "\n",
    "plot = sns.barplot(\n",
    "    x=cancel_df['Month'], y=cancel_df['count'], hue=cancel_df['CancellationCode'])\n",
    "plot.set_xticklabels(month_names, rotation=90)\n",
    "plot.legend(loc='upper left');"
   ]
  },
  {
   "cell_type": "markdown",
   "metadata": {},
   "source": [
    "**8. Which month has the greatest number of cancellations due to Carrier?** \n",
    "- May\n",
    "- January\n",
    "- September\n",
    "- April <span style=\"color:green\"> **[+]** </span>"
   ]
  },
  {
   "cell_type": "code",
   "execution_count": null,
   "metadata": {
    "ExecuteTime": {
     "start_time": "2020-04-10T17:05:08.823Z"
    }
   },
   "outputs": [],
   "source": [
    "# solution\n",
    "flights_df.loc[flights_df['CancellationCode'] == 'A', 'Month'].value_counts().head()"
   ]
  },
  {
   "cell_type": "code",
   "execution_count": null,
   "metadata": {
    "ExecuteTime": {
     "start_time": "2020-04-10T17:05:08.827Z"
    }
   },
   "outputs": [],
   "source": [
    "cancel_df = (flights_df[flights_df['CancellationCode'] == 'A']\n",
    "             .groupby(['Month'])['UniqueCarrier'].count()\n",
    "             .reset_index()\n",
    "             .rename(columns={'UniqueCarrier': 'count'}))\n",
    "\n",
    "plt.figure(figsize=(15, 5))\n",
    "plot = sns.barplot(\n",
    "    x=cancel_df['Month'], y=cancel_df['count'])\n",
    "plot.set_xticklabels(month_names, rotation=90);"
   ]
  },
  {
   "cell_type": "markdown",
   "metadata": {},
   "source": [
    "**9. Identify the carrier with the greatest number of cancellations due to carrier in the corresponding month from the previous question.**\n",
    "\n",
    "- 9E\n",
    "- EV\n",
    "- HA\n",
    "- AA <span style=\"color:green\"> **[+]** </span>"
   ]
  },
  {
   "cell_type": "code",
   "execution_count": null,
   "metadata": {
    "ExecuteTime": {
     "start_time": "2020-04-10T17:05:08.829Z"
    }
   },
   "outputs": [],
   "source": [
    "# solution\n",
    "flights_df.loc[(flights_df['CancellationCode'] == 'A') & (flights_df['Month'] == 4),\n",
    "               'UniqueCarrier'].value_counts().head()"
   ]
  },
  {
   "cell_type": "markdown",
   "metadata": {
    "ExecuteTime": {
     "end_time": "2020-04-10T16:54:51.823016Z",
     "start_time": "2020-04-10T16:54:50.968545Z"
    }
   },
   "source": [
    "Or, as a nice plot (with much more efforts of course):"
   ]
  },
  {
   "cell_type": "code",
   "execution_count": null,
   "metadata": {
    "ExecuteTime": {
     "start_time": "2020-04-10T17:05:08.831Z"
    }
   },
   "outputs": [],
   "source": [
    "import matplotlib.colors as colors\n",
    "import random \n",
    "\n",
    "colors_list = list(colors._colors_full_map.values())\n",
    "selected_colors = random.sample(colors_list,20)\n",
    "\n",
    "cancelled_Carrier_April = (flights_df[(flights_df['CancellationCode'] == 'A') \n",
    "                                     & (flights_df['Month'] == 4)]\n",
    "                .groupby(['Date', 'UniqueCarrier']).size().unstack())\n",
    "\n",
    "# get the peak coordinates for annotation\n",
    "max_value = cancelled_Carrier_April.max().max()\n",
    "carrier_of_max_value = cancelled_Carrier_April.max().idxmax()\n",
    "date_of_max_value = cancelled_Carrier_April[carrier_of_max_value].idxmax()\n",
    "print(\"\\n\", \"Most cancellated carrier:\", carrier_of_max_value,\n",
    "      \"\\n\", \"Number of cancellations:\", max_value, \n",
    "      \"\\n\", \"Date:\", date_of_max_value)\n",
    "\n",
    "fig, ax = plt.subplots()\n",
    "\n",
    "cancelled_Carrier_April.plot(color=selected_colors, figsize=(10,8), ax=ax)\n",
    "ax.annotate(carrier_of_max_value, (str(date_of_max_value), max_value))\n",
    "fig.autofmt_xdate()"
   ]
  },
  {
   "cell_type": "markdown",
   "metadata": {
    "ExecuteTime": {
     "end_time": "2020-04-10T15:25:51.570027Z",
     "start_time": "2020-04-10T15:25:50.710304Z"
    }
   },
   "source": [
    "**or**"
   ]
  },
  {
   "cell_type": "code",
   "execution_count": null,
   "metadata": {
    "ExecuteTime": {
     "start_time": "2020-04-10T17:05:08.833Z"
    },
    "code_folding": []
   },
   "outputs": [],
   "source": [
    "cancelled_Carrier_April = (flights_df[(flights_df['CancellationCode'] == 'A') \n",
    "                                     & (flights_df['Month'] == 4)]\n",
    "                .groupby(['Date', 'UniqueCarrier']).size().reset_index()\n",
    "                .rename(columns={0: 'count'}))\n",
    "\n",
    "# get dates range\n",
    "unique_dates = sorted(list(cancelled_Carrier_April['Date'].drop_duplicates()))\n",
    "date_ticks = range(0, len(unique_dates), 4)\n",
    "\n",
    "plt.figure(figsize=(15, 7))\n",
    "g = sns.pointplot(x=\"Date\", y=\"count\", hue=\"UniqueCarrier\", data=cancelled_Carrier_April)\n",
    "g.set_xticks(date_ticks)\n",
    "g.set_xticklabels([unique_dates[i].strftime('%d') for i in date_ticks])\n",
    "\n",
    "plt.annotate(str(carrier_of_max_value), xy=(8, max_value), xytext=(8, max_value),\n",
    "             bbox={'pad':4, 'edgecolor':'orange', 'facecolor': \n",
    "                   'orange', 'alpha':0.4});"
   ]
  },
  {
   "cell_type": "markdown",
   "metadata": {},
   "source": [
    "**10. Examine median arrival and departure delays (in time) by carrier. Which carrier has the lowest median delay time for both arrivals and departures? Leave only non-negative values of delay times ('ArrDelay', 'DepDelay').\n",
    "[Boxplots](https://seaborn.pydata.org/generated/seaborn.boxplot.html) can be helpful in this exercise, as well as it might be a good idea to remove outliers in order to build nice graphs. You can exclude delay time values higher than a corresponding .95 percentile.**\n",
    "\n",
    "- EV\n",
    "- OO\n",
    "- AA\n",
    "- AQ <span style=\"color:green\"> **[+]** </span>"
   ]
  },
  {
   "cell_type": "code",
   "execution_count": null,
   "metadata": {
    "ExecuteTime": {
     "start_time": "2020-04-10T17:05:08.836Z"
    }
   },
   "outputs": [],
   "source": [
    "# solution\n",
    "for delay_type in ['ArrDelay', 'DepDelay']:\n",
    "    sub_df = flights_df[(flights_df[delay_type] >= 0) &\n",
    "                        (flights_df[delay_type] < \n",
    "                         flights_df[delay_type].quantile(.95))]\n",
    "    plt.figure(figsize=(15, 7))\n",
    "    sns.boxplot(x='UniqueCarrier', y=delay_type, data=sub_df)\n",
    "    plt.show()"
   ]
  }
 ],
 "metadata": {
  "anaconda-cloud": {},
  "kernelspec": {
   "display_name": "Python 3",
   "language": "python",
   "name": "python3"
  },
  "language_info": {
   "codemirror_mode": {
    "name": "ipython",
    "version": 3
   },
   "file_extension": ".py",
   "mimetype": "text/x-python",
   "name": "python",
   "nbconvert_exporter": "python",
   "pygments_lexer": "ipython3",
   "version": "3.7.4"
  },
  "toc": {
   "base_numbering": 1,
   "nav_menu": {},
   "number_sections": true,
   "sideBar": true,
   "skip_h1_title": false,
   "title_cell": "Table of Contents",
   "title_sidebar": "Contents",
   "toc_cell": false,
   "toc_position": {},
   "toc_section_display": true,
   "toc_window_display": false
  }
 },
 "nbformat": 4,
 "nbformat_minor": 1
}
